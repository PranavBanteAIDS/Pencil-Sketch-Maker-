{
 "cells": [
  {
   "cell_type": "code",
   "execution_count": null,
   "id": "7a3264fc",
   "metadata": {},
   "outputs": [],
   "source": [
    "import cv2\n",
    "\n",
    "#location of the image   \n",
    "img = cv2.imread('C:\\\\Users\\\\ADMIN\\\\Desktop\\\\PRANAV\\\\pencil sketch maker\\\\a.jpg')\n",
    "\n",
    "#Convert the image to gray image \n",
    "gray_image = cv2.cvtColor(img, cv2.COLOR_BGR2GRAY)\n",
    "\n",
    "#Invert the image \n",
    "inverted_gray_image = 255 - gray_image\n",
    "\n",
    "#Blur the image by gaussian function \n",
    "blurred_img = cv2.GaussianBlur(inverted_gray_image, (21,21), 0)\n",
    "\n",
    "#invert the blurred image\n",
    "inverted_blurred_img = 255 - blurred_img\n",
    "\n",
    "#Create the pencil sketch image \n",
    "pencil_sketch_IMG = cv2.divide(gray_image, inverted_blurred_img, scale=256.0)\n",
    "\n",
    "#Show the image \n",
    "cv2.imshow('original image',img)\n",
    "cv2.imshow('New Image',pencil_sketch_IMG)\n",
    "cv2.waitKey(0)\n",
    "\n"
   ]
  },
  {
   "cell_type": "code",
   "execution_count": null,
   "id": "56cc097f",
   "metadata": {},
   "outputs": [],
   "source": []
  }
 ],
 "metadata": {
  "kernelspec": {
   "display_name": "Python 3 (ipykernel)",
   "language": "python",
   "name": "python3"
  },
  "language_info": {
   "codemirror_mode": {
    "name": "ipython",
    "version": 3
   },
   "file_extension": ".py",
   "mimetype": "text/x-python",
   "name": "python",
   "nbconvert_exporter": "python",
   "pygments_lexer": "ipython3",
   "version": "3.9.7"
  }
 },
 "nbformat": 4,
 "nbformat_minor": 5
}
